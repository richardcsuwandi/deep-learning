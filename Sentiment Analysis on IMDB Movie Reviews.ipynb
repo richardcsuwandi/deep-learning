{
  "nbformat": 4,
  "nbformat_minor": 0,
  "metadata": {
    "colab": {
      "name": "Sentiment Analysis on IMDB Movie Reviews.ipynb",
      "provenance": [],
      "collapsed_sections": []
    },
    "kernelspec": {
      "name": "python3",
      "display_name": "Python 3"
    }
  },
  "cells": [
    {
      "cell_type": "markdown",
      "metadata": {
        "id": "Gv1zX5m5rzCO",
        "colab_type": "text"
      },
      "source": [
        "# Sentiment Analysis on IMDB Movie Reviews\n",
        "This project is one of my Deep Learning projects. For this project, we have the [IMDB](https://www.tensorflow.org/api_docs/python/tf/keras/datasets/imdb) dataset that contains the text of 50,000 movie reviews from the Internet Movie Database.\n",
        "\n",
        "The goal of this project is apply [transfer learning](https://en.wikipedia.org/wiki/Transfer_learning) to classifiy movie reviews as positive or negative based on the text of the review."
      ]
    },
    {
      "cell_type": "code",
      "metadata": {
        "id": "orcL0dB1lst6",
        "colab_type": "code",
        "colab": {}
      },
      "source": [
        "# Import the libraries\n",
        "import numpy as np\n",
        "import tensorflow as tf\n",
        "import tensorflow_hub as hub\n",
        "import tensorflow_datasets as tfds"
      ],
      "execution_count": 0,
      "outputs": []
    },
    {
      "cell_type": "markdown",
      "metadata": {
        "id": "qlw0beUXt4Bv",
        "colab_type": "text"
      },
      "source": [
        "## Loading the Data\n",
        "We can import and load the IMDB dataset directly from TensorFlow datasets. Originally, the dataset is split into 25,000 reviews for training and 25,000 reviews for testing. We will split the training set with a ratio of 60:40. So, we will end up with 15,000 samples for training, 10,000 samples for validation and 25,000 samples for testing.\n"
      ]
    },
    {
      "cell_type": "code",
      "metadata": {
        "id": "jW7f3zaClxuz",
        "colab_type": "code",
        "colab": {}
      },
      "source": [
        "# Load and split the data\n",
        "train_data, validation_data, test_data = tfds.load(\n",
        "    name=\"imdb_reviews\", \n",
        "    split=('train[:60%]', 'train[60%:]', 'test'),\n",
        "    as_supervised=True)"
      ],
      "execution_count": 0,
      "outputs": []
    },
    {
      "cell_type": "markdown",
      "metadata": {
        "id": "MnvC5jM-5I-w",
        "colab_type": "text"
      },
      "source": [
        "\n",
        "\n",
        "```\n",
        "`# This is formatted as code`\n",
        "```\n",
        "\n",
        "Let's view the first 5 samples and labels of our training data. "
      ]
    },
    {
      "cell_type": "code",
      "metadata": {
        "id": "0HxlJC5DoIJC",
        "colab_type": "code",
        "colab": {}
      },
      "source": [
        "train_samples_batch, train_labels_batch = next(iter(train_data.batch(5)))"
      ],
      "execution_count": 0,
      "outputs": []
    },
    {
      "cell_type": "code",
      "metadata": {
        "id": "jm-kqK_b5RJq",
        "colab_type": "code",
        "outputId": "41d2e096-78b4-40a9-df0d-d1e8c5c51bb5",
        "colab": {
          "base_uri": "https://localhost:8080/",
          "height": 159
        }
      },
      "source": [
        "# View the first 5 samples\n",
        "train_samples_batch"
      ],
      "execution_count": 4,
      "outputs": [
        {
          "output_type": "execute_result",
          "data": {
            "text/plain": [
              "<tf.Tensor: shape=(5,), dtype=string, numpy=\n",
              "array([b\"This was an absolutely terrible movie. Don't be lured in by Christopher Walken or Michael Ironside. Both are great actors, but this must simply be their worst role in history. Even their great acting could not redeem this movie's ridiculous storyline. This movie is an early nineties US propaganda piece. The most pathetic scenes were those when the Columbian rebels were making their cases for revolutions. Maria Conchita Alonso appeared phony, and her pseudo-love affair with Walken was nothing but a pathetic emotional plug in a movie that was devoid of any real meaning. I am disappointed that there are movies like this, ruining actor's like Christopher Walken's good name. I could barely sit through it.\",\n",
              "       b'I have been known to fall asleep during films, but this is usually due to a combination of things including, really tired, being warm and comfortable on the sette and having just eaten a lot. However on this occasion I fell asleep because the film was rubbish. The plot development was constant. Constantly slow and boring. Things seemed to happen, but with no explanation of what was causing them or why. I admit, I may have missed part of the film, but i watched the majority of it and everything just seemed to happen of its own accord without any real concern for anything else. I cant recommend this film at all.',\n",
              "       b'Mann photographs the Alberta Rocky Mountains in a superb fashion, and Jimmy Stewart and Walter Brennan give enjoyable performances as they always seem to do. <br /><br />But come on Hollywood - a Mountie telling the people of Dawson City, Yukon to elect themselves a marshal (yes a marshal!) and to enforce the law themselves, then gunfighters battling it out on the streets for control of the town? <br /><br />Nothing even remotely resembling that happened on the Canadian side of the border during the Klondike gold rush. Mr. Mann and company appear to have mistaken Dawson City for Deadwood, the Canadian North for the American Wild West.<br /><br />Canadian viewers be prepared for a Reefer Madness type of enjoyable howl with this ludicrous plot, or, to shake your head in disgust.',\n",
              "       b'This is the kind of film for a snowy Sunday afternoon when the rest of the world can go ahead with its own business as you descend into a big arm-chair and mellow for a couple of hours. Wonderful performances from Cher and Nicolas Cage (as always) gently row the plot along. There are no rapids to cross, no dangerous waters, just a warm and witty paddle through New York life at its best. A family film in every sense and one that deserves the praise it received.',\n",
              "       b'As others have mentioned, all the women that go nude in this film are mostly absolutely gorgeous. The plot very ably shows the hypocrisy of the female libido. When men are around they want to be pursued, but when no \"men\" are around, they become the pursuers of a 14 year old boy. And the boy becomes a man really fast (we should all be so lucky at this age!). He then gets up the courage to pursue his true love.'],\n",
              "      dtype=object)>"
            ]
          },
          "metadata": {
            "tags": []
          },
          "execution_count": 4
        }
      ]
    },
    {
      "cell_type": "code",
      "metadata": {
        "id": "j5vUGuLC5fDL",
        "colab_type": "code",
        "outputId": "050c046e-aa3d-4bf2-e1ef-4ea89fe1d033",
        "colab": {
          "base_uri": "https://localhost:8080/",
          "height": 35
        }
      },
      "source": [
        "# View the first 5 labels\n",
        "train_labels_batch"
      ],
      "execution_count": 5,
      "outputs": [
        {
          "output_type": "execute_result",
          "data": {
            "text/plain": [
              "<tf.Tensor: shape=(5,), dtype=int64, numpy=array([0, 0, 0, 1, 1])>"
            ]
          },
          "metadata": {
            "tags": []
          },
          "execution_count": 5
        }
      ]
    },
    {
      "cell_type": "markdown",
      "metadata": {
        "id": "0CkflhTB5njP",
        "colab_type": "text"
      },
      "source": [
        "As we can see, each sample is a sentence representing the movie review and the label is an integer value of either 0 or 1, where 0 is a negative review, and 1 is a positive review."
      ]
    },
    {
      "cell_type": "markdown",
      "metadata": {
        "id": "zn2MYWFK55Sy",
        "colab_type": "text"
      },
      "source": [
        "## Building the Model\n",
        "Here, we will apply transfer learning by using a pre-trained text embedding model from [TensorFlow Hub](https://www.tensorflow.org/hub) called [gnews-swivel-20dim](https://tfhub.dev/google/tf2-preview/gnews-swivel-20dim/1). Let's first create a Keras layer that uses this TensorFlow Hub model to embed the sentences."
      ]
    },
    {
      "cell_type": "code",
      "metadata": {
        "id": "tRum0h6e5yra",
        "colab_type": "code",
        "colab": {}
      },
      "source": [
        "# Create an embedding layer\n",
        "embedding =  \"https://tfhub.dev/google/tf2-preview/gnews-swivel-20dim/1\"\n",
        "hub_layer = hub.KerasLayer(embedding, input_shape=[],\n",
        "                          dtype=tf.string, trainable=True)"
      ],
      "execution_count": 0,
      "outputs": []
    },
    {
      "cell_type": "markdown",
      "metadata": {
        "id": "uUshB6CU9VEV",
        "colab_type": "text"
      },
      "source": [
        "### Configuring the Layers\n",
        "Now, we can build the full model by configuring the layers. The first layer is the embedding layer using the pre-trained model from TensorFlow Hub. The next layer will be a `tf.keras.layers.Dense` layer with 16 hidden units. Finally, the last layer is another `tf.keras.layers.Dense` with a single output node."
      ]
    },
    {
      "cell_type": "code",
      "metadata": {
        "id": "XEAiEifZ7rx-",
        "colab_type": "code",
        "colab": {}
      },
      "source": [
        "# Build the model\n",
        "model = tf.keras.Sequential()\n",
        "\n",
        "# Configure the layers\n",
        "model.add(hub_layer)\n",
        "model.add(tf.keras.layers.Dense(16, activation='relu'))\n",
        "model.add(tf.keras.layers.Dense(1, activation='sigmoid'))"
      ],
      "execution_count": 0,
      "outputs": []
    },
    {
      "cell_type": "code",
      "metadata": {
        "id": "8WUTgE5K8OjF",
        "colab_type": "code",
        "outputId": "e67df584-9672-4a74-fb94-c83e06343719",
        "colab": {
          "base_uri": "https://localhost:8080/",
          "height": 260
        }
      },
      "source": [
        "# View the model's architecture\n",
        "model.summary()"
      ],
      "execution_count": 8,
      "outputs": [
        {
          "output_type": "stream",
          "text": [
            "Model: \"sequential\"\n",
            "_________________________________________________________________\n",
            "Layer (type)                 Output Shape              Param #   \n",
            "=================================================================\n",
            "keras_layer (KerasLayer)     (None, 20)                400020    \n",
            "_________________________________________________________________\n",
            "dense (Dense)                (None, 16)                336       \n",
            "_________________________________________________________________\n",
            "dense_1 (Dense)              (None, 1)                 17        \n",
            "=================================================================\n",
            "Total params: 400,373\n",
            "Trainable params: 400,373\n",
            "Non-trainable params: 0\n",
            "_________________________________________________________________\n"
          ],
          "name": "stdout"
        }
      ]
    },
    {
      "cell_type": "markdown",
      "metadata": {
        "id": "mlUqIMQ69jhQ",
        "colab_type": "text"
      },
      "source": [
        "### Compiling the Model\n",
        "Before training the model, we need to compile the model with the following settings:\n",
        "- Loss function: This measures how accurate the model is during training. Since this is a binary classification problem and the model outputs logits (a single-unit layer with a linear activation), we will use the binary crossentropy loss function.\n",
        "- Optimizer: This is how the model is updated based on the data it sees and its loss function. We are going to use Adam, which is an optimization algorithm based on adaptive estimation of first-order and second-order moments.\n",
        "- Metrics: Used to monitor the training and testing steps. Here we will use accuracy, the fraction of the images that are correctly classified."
      ]
    },
    {
      "cell_type": "code",
      "metadata": {
        "id": "rSaLv9YO996m",
        "colab_type": "code",
        "colab": {}
      },
      "source": [
        "# Compile the model\n",
        "model.compile(loss='binary_crossentropy',\n",
        "              optimizer='adam',\n",
        "              metrics=['accuracy'])"
      ],
      "execution_count": 0,
      "outputs": []
    },
    {
      "cell_type": "markdown",
      "metadata": {
        "id": "g_-gLpFa-QwZ",
        "colab_type": "text"
      },
      "source": [
        "### Fitting the Model\n",
        "Now, we can use the model.fit method to fits the model to the training data. We will train the model for 20 epochs in mini-batches of 512 samples. During the training process, we will also monitor the model's loss and accuracy on the 10,000 samples from the validation set."
      ]
    },
    {
      "cell_type": "code",
      "metadata": {
        "id": "ORN1OZTf-Qga",
        "colab_type": "code",
        "outputId": "2de7a460-7836-46bb-b30e-899bf373b9e3",
        "colab": {
          "base_uri": "https://localhost:8080/",
          "height": 711
        }
      },
      "source": [
        "# Fit the model\n",
        "history = model.fit(train_data.shuffle(10000, seed=0).batch(512),\n",
        "                    epochs=20,\n",
        "                    validation_data=validation_data.batch(512))"
      ],
      "execution_count": 10,
      "outputs": [
        {
          "output_type": "stream",
          "text": [
            "Epoch 1/20\n",
            "30/30 [==============================] - 3s 110ms/step - loss: 0.7683 - accuracy: 0.4617 - val_loss: 0.7087 - val_accuracy: 0.5327\n",
            "Epoch 2/20\n",
            "30/30 [==============================] - 3s 105ms/step - loss: 0.6661 - accuracy: 0.5996 - val_loss: 0.6365 - val_accuracy: 0.6417\n",
            "Epoch 3/20\n",
            "30/30 [==============================] - 3s 112ms/step - loss: 0.6124 - accuracy: 0.6719 - val_loss: 0.5974 - val_accuracy: 0.6825\n",
            "Epoch 4/20\n",
            "30/30 [==============================] - 3s 106ms/step - loss: 0.5738 - accuracy: 0.7091 - val_loss: 0.5654 - val_accuracy: 0.7137\n",
            "Epoch 5/20\n",
            "30/30 [==============================] - 3s 108ms/step - loss: 0.5385 - accuracy: 0.7417 - val_loss: 0.5333 - val_accuracy: 0.7424\n",
            "Epoch 6/20\n",
            "30/30 [==============================] - 3s 105ms/step - loss: 0.5007 - accuracy: 0.7730 - val_loss: 0.5005 - val_accuracy: 0.7698\n",
            "Epoch 7/20\n",
            "30/30 [==============================] - 3s 107ms/step - loss: 0.4630 - accuracy: 0.7976 - val_loss: 0.4678 - val_accuracy: 0.7891\n",
            "Epoch 8/20\n",
            "30/30 [==============================] - 3s 108ms/step - loss: 0.4259 - accuracy: 0.8211 - val_loss: 0.4390 - val_accuracy: 0.8064\n",
            "Epoch 9/20\n",
            "30/30 [==============================] - 3s 108ms/step - loss: 0.3909 - accuracy: 0.8417 - val_loss: 0.4139 - val_accuracy: 0.8183\n",
            "Epoch 10/20\n",
            "30/30 [==============================] - 3s 109ms/step - loss: 0.3599 - accuracy: 0.8581 - val_loss: 0.3904 - val_accuracy: 0.8296\n",
            "Epoch 11/20\n",
            "30/30 [==============================] - 3s 107ms/step - loss: 0.3317 - accuracy: 0.8711 - val_loss: 0.3722 - val_accuracy: 0.8386\n",
            "Epoch 12/20\n",
            "30/30 [==============================] - 3s 113ms/step - loss: 0.3072 - accuracy: 0.8825 - val_loss: 0.3573 - val_accuracy: 0.8464\n",
            "Epoch 13/20\n",
            "30/30 [==============================] - 3s 110ms/step - loss: 0.2864 - accuracy: 0.8899 - val_loss: 0.3468 - val_accuracy: 0.8513\n",
            "Epoch 14/20\n",
            "30/30 [==============================] - 3s 112ms/step - loss: 0.2660 - accuracy: 0.9000 - val_loss: 0.3374 - val_accuracy: 0.8560\n",
            "Epoch 15/20\n",
            "30/30 [==============================] - 3s 110ms/step - loss: 0.2483 - accuracy: 0.9059 - val_loss: 0.3276 - val_accuracy: 0.8616\n",
            "Epoch 16/20\n",
            "30/30 [==============================] - 3s 109ms/step - loss: 0.2320 - accuracy: 0.9130 - val_loss: 0.3213 - val_accuracy: 0.8642\n",
            "Epoch 17/20\n",
            "30/30 [==============================] - 3s 108ms/step - loss: 0.2174 - accuracy: 0.9193 - val_loss: 0.3170 - val_accuracy: 0.8680\n",
            "Epoch 18/20\n",
            "30/30 [==============================] - 3s 112ms/step - loss: 0.2037 - accuracy: 0.9266 - val_loss: 0.3128 - val_accuracy: 0.8688\n",
            "Epoch 19/20\n",
            "30/30 [==============================] - 3s 108ms/step - loss: 0.1912 - accuracy: 0.9317 - val_loss: 0.3102 - val_accuracy: 0.8704\n",
            "Epoch 20/20\n",
            "30/30 [==============================] - 3s 111ms/step - loss: 0.1789 - accuracy: 0.9379 - val_loss: 0.3146 - val_accuracy: 0.8689\n"
          ],
          "name": "stdout"
        }
      ]
    },
    {
      "cell_type": "markdown",
      "metadata": {
        "id": "M5yC66At_aZi",
        "colab_type": "text"
      },
      "source": [
        "As the model trains, the loss and accuracy metrics are displayed. This model reaches an accuracy of about 94% on the training data and 87% on validation data."
      ]
    },
    {
      "cell_type": "code",
      "metadata": {
        "id": "Rd-3bFKZBL0b",
        "colab_type": "code",
        "outputId": "e9fff88e-bb80-4a1b-fd38-8fb41a336a21",
        "colab": {
          "base_uri": "https://localhost:8080/",
          "height": 283
        }
      },
      "source": [
        "import matplotlib.pyplot as plt\n",
        "\n",
        "# Create the accuracy plot\n",
        "plt.plot(history.history['accuracy'], label='accuracy')\n",
        "plt.plot(history.history['val_accuracy'], label = 'val_accuracy')\n",
        "plt.xlabel('Epoch')\n",
        "plt.ylabel('Accuracy')\n",
        "plt.xlim([0, 20])\n",
        "plt.ylim([0.5, 1])\n",
        "plt.legend(loc='lower right')\n",
        "plt.show()"
      ],
      "execution_count": 11,
      "outputs": [
        {
          "output_type": "display_data",
          "data": {
            "image/png": "[encoded data removed]",
            "text/plain": [
              "<Figure size 432x288 with 1 Axes>"
            ]
          },
          "metadata": {
            "tags": [],
            "needs_background": "light"
          }
        }
      ]
    },
    {
      "cell_type": "markdown",
      "metadata": {
        "id": "LeSVNWFY_mrB",
        "colab_type": "text"
      },
      "source": [
        "## Evaluating the Model\n",
        "Next, compare how the model performs on the test data."
      ]
    },
    {
      "cell_type": "code",
      "metadata": {
        "id": "klR02TO1-Og4",
        "colab_type": "code",
        "outputId": "7dc65b13-9118-4613-d197-49777764674f",
        "colab": {
          "base_uri": "https://localhost:8080/",
          "height": 35
        }
      },
      "source": [
        "test_loss, test_acc = model.evaluate(test_data.batch(512), verbose=2)"
      ],
      "execution_count": 12,
      "outputs": [
        {
          "output_type": "stream",
          "text": [
            "49/49 - 3s - loss: 0.3208 - accuracy: 0.8638\n"
          ],
          "name": "stdout"
        }
      ]
    },
    {
      "cell_type": "markdown",
      "metadata": {
        "id": "d9p2S4n__91r",
        "colab_type": "text"
      },
      "source": [
        "\n",
        "It turns out that the accuracy on the test dataset is a little less than the accuracy on the validation data."
      ]
    },
    {
      "cell_type": "markdown",
      "metadata": {
        "id": "IY2-KyqODI8F",
        "colab_type": "text"
      },
      "source": [
        "## Making Predictions\n",
        "Now that we have our model trained, we can try to make some predictions."
      ]
    },
    {
      "cell_type": "code",
      "metadata": {
        "id": "jhXcBBiJDCPW",
        "colab_type": "code",
        "outputId": "8305e8ee-431f-4746-cf65-f2c45a2dcdf9",
        "colab": {
          "base_uri": "https://localhost:8080/",
          "height": 52
        }
      },
      "source": [
        "# Predict on a positive movie review\n",
        "model.predict(['This is the best movie I have ever seen!',\n",
        "               'This movie is very horrible! The acting is very poor!'])"
      ],
      "execution_count": 13,
      "outputs": [
        {
          "output_type": "execute_result",
          "data": {
            "text/plain": [
              "array([[0.91713476],\n",
              "       [0.0351524 ]], dtype=float32)"
            ]
          },
          "metadata": {
            "tags": []
          },
          "execution_count": 13
        }
      ]
    },
    {
      "cell_type": "markdown",
      "metadata": {
        "id": "5nf5PBecEukl",
        "colab_type": "text"
      },
      "source": [
        "Since the first review has a value closer to 1, the model classifies this as a positive review. On the other hand, the second review has a value closer to 0, so the model classifies this as a negative review."
      ]
    }
  ]
}