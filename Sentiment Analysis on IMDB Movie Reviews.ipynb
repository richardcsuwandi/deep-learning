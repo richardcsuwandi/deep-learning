{
  "nbformat": 4,
  "nbformat_minor": 0,
  "metadata": {
    "colab": {
      "name": "Sentiment Analysis on IMDB Movie Reviews.ipynb",
      "provenance": [],
      "collapsed_sections": []
    },
    "kernelspec": {
      "name": "python3",
      "display_name": "Python 3"
    }
  },
  "cells": [
    {
      "cell_type": "markdown",
      "metadata": {
        "id": "Gv1zX5m5rzCO",
        "colab_type": "text"
      },
      "source": [
        "# Sentiment Analysis on IMDB Movie Reviews\n",
        "This project is one of my Deep Learning projects. For this project, we have the [IMDB](https://www.tensorflow.org/api_docs/python/tf/keras/datasets/imdb) dataset that contains the text of 50,000 movie reviews from the Internet Movie Database.\n",
        "\n",
        "The goal of this project is apply [transfer learning](https://en.wikipedia.org/wiki/Transfer_learning) to classifiy movie reviews as positive or negative based on the text of the review."
      ]
    },
    {
      "cell_type": "code",
      "metadata": {
        "id": "orcL0dB1lst6",
        "colab_type": "code",
        "colab": {}
      },
      "source": [
        "# Import the libraries\n",
        "import numpy as np\n",
        "import tensorflow as tf\n",
        "import tensorflow_hub as hub\n",
        "import tensorflow_datasets as tfds"
      ],
      "execution_count": 0,
      "outputs": []
    },
    {
      "cell_type": "markdown",
      "metadata": {
        "id": "qlw0beUXt4Bv",
        "colab_type": "text"
      },
      "source": [
        "## Loading the Data\n",
        "We can import and load the IMDB dataset directly from TensorFlow datasets. Originally, the dataset is split into 25,000 reviews for training and 25,000 reviews for testing. We will split the training set with a ratio of 60:40. So, we will end up with 15,000 samples for training, 10,000 samples for validation and 25,000 samples for testing.\n"
      ]
    },
    {
      "cell_type": "code",
      "metadata": {
        "id": "jW7f3zaClxuz",
        "colab_type": "code",
        "colab": {}
      },
      "source": [
        "# Load and split the data\n",
        "train_data, validation_data, test_data = tfds.load(\n",
        "    name=\"imdb_reviews\", \n",
        "    split=('train[:60%]', 'train[60%:]', 'test'),\n",
        "    as_supervised=True)"
      ],
      "execution_count": 0,
      "outputs": []
    },
    {
      "cell_type": "markdown",
      "metadata": {
        "id": "MnvC5jM-5I-w",
        "colab_type": "text"
      },
      "source": [
        "Let's view the first 10 samples of our training data. "
      ]
    },
    {
      "cell_type": "code",
      "metadata": {
        "id": "0HxlJC5DoIJC",
        "colab_type": "code",
        "colab": {}
      },
      "source": [
        "train_samples_batch, train_labels_batch = next(iter(train_data.batch(10)))"
      ],
      "execution_count": 0,
      "outputs": []
    },
    {
      "cell_type": "code",
      "metadata": {
        "id": "jm-kqK_b5RJq",
        "colab_type": "code",
        "colab": {
          "base_uri": "https://localhost:8080/",
          "height": 245
        },
        "outputId": "b745ac44-8596-498d-b06f-504b9749aecc"
      },
      "source": [
        "# View the first 10 samples\n",
        "train_samples_batch"
      ],
      "execution_count": 4,
      "outputs": [
        {
          "output_type": "execute_result",
          "data": {
            "text/plain": [
              "<tf.Tensor: shape=(10,), dtype=string, numpy=\n",
              "array([b\"This was an absolutely terrible movie. Don't be lured in by Christopher Walken or Michael Ironside. Both are great actors, but this must simply be their worst role in history. Even their great acting could not redeem this movie's ridiculous storyline. This movie is an early nineties US propaganda piece. The most pathetic scenes were those when the Columbian rebels were making their cases for revolutions. Maria Conchita Alonso appeared phony, and her pseudo-love affair with Walken was nothing but a pathetic emotional plug in a movie that was devoid of any real meaning. I am disappointed that there are movies like this, ruining actor's like Christopher Walken's good name. I could barely sit through it.\",\n",
              "       b'I have been known to fall asleep during films, but this is usually due to a combination of things including, really tired, being warm and comfortable on the sette and having just eaten a lot. However on this occasion I fell asleep because the film was rubbish. The plot development was constant. Constantly slow and boring. Things seemed to happen, but with no explanation of what was causing them or why. I admit, I may have missed part of the film, but i watched the majority of it and everything just seemed to happen of its own accord without any real concern for anything else. I cant recommend this film at all.',\n",
              "       b'Mann photographs the Alberta Rocky Mountains in a superb fashion, and Jimmy Stewart and Walter Brennan give enjoyable performances as they always seem to do. <br /><br />But come on Hollywood - a Mountie telling the people of Dawson City, Yukon to elect themselves a marshal (yes a marshal!) and to enforce the law themselves, then gunfighters battling it out on the streets for control of the town? <br /><br />Nothing even remotely resembling that happened on the Canadian side of the border during the Klondike gold rush. Mr. Mann and company appear to have mistaken Dawson City for Deadwood, the Canadian North for the American Wild West.<br /><br />Canadian viewers be prepared for a Reefer Madness type of enjoyable howl with this ludicrous plot, or, to shake your head in disgust.',\n",
              "       b'This is the kind of film for a snowy Sunday afternoon when the rest of the world can go ahead with its own business as you descend into a big arm-chair and mellow for a couple of hours. Wonderful performances from Cher and Nicolas Cage (as always) gently row the plot along. There are no rapids to cross, no dangerous waters, just a warm and witty paddle through New York life at its best. A family film in every sense and one that deserves the praise it received.',\n",
              "       b'As others have mentioned, all the women that go nude in this film are mostly absolutely gorgeous. The plot very ably shows the hypocrisy of the female libido. When men are around they want to be pursued, but when no \"men\" are around, they become the pursuers of a 14 year old boy. And the boy becomes a man really fast (we should all be so lucky at this age!). He then gets up the courage to pursue his true love.',\n",
              "       b\"This is a film which should be seen by anybody interested in, effected by, or suffering from an eating disorder. It is an amazingly accurate and sensitive portrayal of bulimia in a teenage girl, its causes and its symptoms. The girl is played by one of the most brilliant young actresses working in cinema today, Alison Lohman, who was later so spectacular in 'Where the Truth Lies'. I would recommend that this film be shown in all schools, as you will never see a better on this subject. Alison Lohman is absolutely outstanding, and one marvels at her ability to convey the anguish of a girl suffering from this compulsive disorder. If barometers tell us the air pressure, Alison Lohman tells us the emotional pressure with the same degree of accuracy. Her emotional range is so precise, each scene could be measured microscopically for its gradations of trauma, on a scale of rising hysteria and desperation which reaches unbearable intensity. Mare Winningham is the perfect choice to play her mother, and does so with immense sympathy and a range of emotions just as finely tuned as Lohman's. Together, they make a pair of sensitive emotional oscillators vibrating in resonance with one another. This film is really an astonishing achievement, and director Katt Shea should be proud of it. The only reason for not seeing it is if you are not interested in people. But even if you like nature films best, this is after all animal behaviour at the sharp edge. Bulimia is an extreme version of how a tormented soul can destroy her own body in a frenzy of despair. And if we don't sympathise with people suffering from the depths of despair, then we are dead inside.\",\n",
              "       b'Okay, you have:<br /><br />Penelope Keith as Miss Herringbone-Tweed, B.B.E. (Backbone of England.) She\\'s killed off in the first scene - that\\'s right, folks; this show has no backbone!<br /><br />Peter O\\'Toole as Ol\\' Colonel Cricket from The First War and now the emblazered Lord of the Manor.<br /><br />Joanna Lumley as the ensweatered Lady of the Manor, 20 years younger than the colonel and 20 years past her own prime but still glamourous (Brit spelling, not mine) enough to have a toy-boy on the side. It\\'s alright, they have Col. Cricket\\'s full knowledge and consent (they guy even comes \\'round for Christmas!) Still, she\\'s considerate of the colonel enough to have said toy-boy her own age (what a gal!)<br /><br />David McCallum as said toy-boy, equally as pointlessly glamourous as his squeeze. Pilcher couldn\\'t come up with any cover for him within the story, so she gave him a hush-hush job at the Circus.<br /><br />and finally:<br /><br />Susan Hampshire as Miss Polonia Teacups, Venerable Headmistress of the Venerable Girls\\' Boarding-School, serving tea in her office with a dash of deep, poignant advice for life in the outside world just before graduation. Her best bit of advice: \"I\\'ve only been to Nancherrow (the local Stately Home of England) once. I thought it was very beautiful but, somehow, not part of the real world.\" Well, we can\\'t say they didn\\'t warn us.<br /><br />Ah, Susan - time was, your character would have been running the whole show. They don\\'t write \\'em like that any more. Our loss, not yours.<br /><br />So - with a cast and setting like this, you have the re-makings of \"Brideshead Revisited,\" right?<br /><br />Wrong! They took these 1-dimensional supporting roles because they paid so well. After all, acting is one of the oldest temp-jobs there is (YOU name another!)<br /><br />First warning sign: lots and lots of backlighting. They get around it by shooting outdoors - \"hey, it\\'s just the sunlight!\"<br /><br />Second warning sign: Leading Lady cries a lot. When not crying, her eyes are moist. That\\'s the law of romance novels: Leading Lady is \"dewy-eyed.\"<br /><br />Henceforth, Leading Lady shall be known as L.L.<br /><br />Third warning sign: L.L. actually has stars in her eyes when she\\'s in love. Still, I\\'ll give Emily Mortimer an award just for having to act with that spotlight in her eyes (I wonder . did they use contacts?)<br /><br />And lastly, fourth warning sign: no on-screen female character is \"Mrs.\" She\\'s either \"Miss\" or \"Lady.\"<br /><br />When all was said and done, I still couldn\\'t tell you who was pursuing whom and why. I couldn\\'t even tell you what was said and done.<br /><br />To sum up: they all live through World War II without anything happening to them at all.<br /><br />OK, at the end, L.L. finds she\\'s lost her parents to the Japanese prison camps and baby sis comes home catatonic. Meanwhile (there\\'s always a \"meanwhile,\") some young guy L.L. had a crush on (when, I don\\'t know) comes home from some wartime tough spot and is found living on the street by Lady of the Manor (must be some street if SHE\\'s going to find him there.) Both war casualties are whisked away to recover at Nancherrow (SOMEBODY has to be \"whisked away\" SOMEWHERE in these romance stories!)<br /><br />Great drama.',\n",
              "       b'The film is based on a genuine 1950s novel.<br /><br />Journalist Colin McInnes wrote a set of three \"London novels\": \"Absolute Beginners\", \"City of Spades\" and \"Mr Love and Justice\". I have read all three. The first two are excellent. The last, perhaps an experiment that did not come off. But McInnes\\'s work is highly acclaimed; and rightly so. This musical is the novelist\\'s ultimate nightmare - to see the fruits of one\\'s mind being turned into a glitzy, badly-acted, soporific one-dimensional apology of a film that says it captures the spirit of 1950s London, and does nothing of the sort.<br /><br />Thank goodness Colin McInnes wasn\\'t alive to witness it.',\n",
              "       b'I really love the sexy action and sci-fi films of the sixties and its because of the actress\\'s that appeared in them. They found the sexiest women to be in these films and it didn\\'t matter if they could act (Remember \"Candy\"?). The reason I was disappointed by this film was because it wasn\\'t nostalgic enough. The story here has a European sci-fi film called \"Dragonfly\" being made and the director is fired. So the producers decide to let a young aspiring filmmaker (Jeremy Davies) to complete the picture. They\\'re is one real beautiful woman in the film who plays Dragonfly but she\\'s barely in it. Film is written and directed by Roman Coppola who uses some of his fathers exploits from his early days and puts it into the script. I wish the film could have been an homage to those early films. They could have lots of cameos by actors who appeared in them. There is one actor in this film who was popular from the sixties and its John Phillip Law (Barbarella). Gerard Depardieu, Giancarlo Giannini and Dean Stockwell appear as well. I guess I\\'m going to have to continue waiting for a director to make a good homage to the films of the sixties. If any are reading this, \"Make it as sexy as you can\"! I\\'ll be waiting!',\n",
              "       b'Sure, this one isn\\'t really a blockbuster, nor does it target such a position. \"Dieter\" is the first name of a quite popular German musician, who is either loved or hated for his kind of acting and thats exactly what this movie is about. It is based on the autobiography \"Dieter Bohlen\" wrote a few years ago but isn\\'t meant to be accurate on that. The movie is filled with some sexual offensive content (at least for American standard) which is either amusing (not for the other \"actors\" of course) or dumb - it depends on your individual kind of humor or on you being a \"Bohlen\"-Fan or not. Technically speaking there isn\\'t much to criticize. Speaking of me I find this movie to be an OK-movie.'],\n",
              "      dtype=object)>"
            ]
          },
          "metadata": {
            "tags": []
          },
          "execution_count": 4
        }
      ]
    },
    {
      "cell_type": "code",
      "metadata": {
        "id": "j5vUGuLC5fDL",
        "colab_type": "code",
        "colab": {
          "base_uri": "https://localhost:8080/",
          "height": 35
        },
        "outputId": "a290555a-3508-4e92-85a1-e1595634c242"
      },
      "source": [
        "# View the first 10 labels\n",
        "train_labels_batch"
      ],
      "execution_count": 5,
      "outputs": [
        {
          "output_type": "execute_result",
          "data": {
            "text/plain": [
              "<tf.Tensor: shape=(10,), dtype=int64, numpy=array([0, 0, 0, 1, 1, 1, 0, 0, 0, 0])>"
            ]
          },
          "metadata": {
            "tags": []
          },
          "execution_count": 5
        }
      ]
    },
    {
      "cell_type": "markdown",
      "metadata": {
        "id": "0CkflhTB5njP",
        "colab_type": "text"
      },
      "source": [
        "As we can see, each sample is a sentence representing the movie review and the label is an integer value of either 0 or 1, where 0 is a negative review, and 1 is a positive review."
      ]
    },
    {
      "cell_type": "markdown",
      "metadata": {
        "id": "zn2MYWFK55Sy",
        "colab_type": "text"
      },
      "source": [
        "## Building the Model\n",
        "Here, we will apply transfer learning by using a pre-trained text embedding model from [TensorFlow Hub](https://www.tensorflow.org/hub) called [gnews-swivel-20dim](https://tfhub.dev/google/tf2-preview/gnews-swivel-20dim/1). Let's first create a Keras layer that uses this TensorFlow Hub model to embed the sentences."
      ]
    },
    {
      "cell_type": "code",
      "metadata": {
        "id": "tRum0h6e5yra",
        "colab_type": "code",
        "colab": {}
      },
      "source": [
        "# Create an embedding layer\n",
        "embedding =  \"https://tfhub.dev/google/tf2-preview/gnews-swivel-20dim/1\"\n",
        "hub_layer = hub.KerasLayer(embedding, input_shape=[],\n",
        "                          dtype=tf.string, trainable=True)"
      ],
      "execution_count": 0,
      "outputs": []
    },
    {
      "cell_type": "markdown",
      "metadata": {
        "id": "uUshB6CU9VEV",
        "colab_type": "text"
      },
      "source": [
        "### Configuring the Layers\n",
        "Now, we can build the full model by configuring the layers. The first layer is the embedding layer using the pre-trained model from TensorFlow Hub. The next layer will be a `tf.keras.layers.Dense` layer with 16 hidden units. Finally, the last layer is another `tf.keras.layers.Dense` with a single output node."
      ]
    },
    {
      "cell_type": "code",
      "metadata": {
        "id": "XEAiEifZ7rx-",
        "colab_type": "code",
        "colab": {}
      },
      "source": [
        "# Build the model\n",
        "model = tf.keras.Sequential()\n",
        "\n",
        "# Configure the layers\n",
        "model.add(hub_layer)\n",
        "model.add(tf.keras.layers.Dense(16, activation='relu'))\n",
        "model.add(tf.keras.layers.Dense(1, activation='sigmoid'))"
      ],
      "execution_count": 0,
      "outputs": []
    },
    {
      "cell_type": "code",
      "metadata": {
        "id": "8WUTgE5K8OjF",
        "colab_type": "code",
        "colab": {
          "base_uri": "https://localhost:8080/",
          "height": 260
        },
        "outputId": "1d55e92d-6202-40fb-c87e-6da019efd86e"
      },
      "source": [
        "# View the model's architecture\n",
        "model.summary()"
      ],
      "execution_count": 8,
      "outputs": [
        {
          "output_type": "stream",
          "text": [
            "Model: \"sequential\"\n",
            "_________________________________________________________________\n",
            "Layer (type)                 Output Shape              Param #   \n",
            "=================================================================\n",
            "keras_layer (KerasLayer)     (None, 20)                400020    \n",
            "_________________________________________________________________\n",
            "dense (Dense)                (None, 16)                336       \n",
            "_________________________________________________________________\n",
            "dense_1 (Dense)              (None, 1)                 17        \n",
            "=================================================================\n",
            "Total params: 400,373\n",
            "Trainable params: 400,373\n",
            "Non-trainable params: 0\n",
            "_________________________________________________________________\n"
          ],
          "name": "stdout"
        }
      ]
    },
    {
      "cell_type": "markdown",
      "metadata": {
        "id": "mlUqIMQ69jhQ",
        "colab_type": "text"
      },
      "source": [
        "### Compiling the Model\n",
        "Before training the model, we need to compile the model with the following settings:\n",
        "- Loss function: This measures how accurate the model is during training. Since this is a binary classification problem and the model outputs logits (a single-unit layer with a linear activation), we will use the binary crossentropy loss function.\n",
        "- Optimizer: This is how the model is updated based on the data it sees and its loss function. We are going to use Adam, which is an optimization algorithm based on adaptive estimation of first-order and second-order moments.\n",
        "- Metrics: Used to monitor the training and testing steps. Here we will use accuracy, the fraction of the images that are correctly classified."
      ]
    },
    {
      "cell_type": "code",
      "metadata": {
        "id": "rSaLv9YO996m",
        "colab_type": "code",
        "colab": {}
      },
      "source": [
        "# Compile the model\n",
        "model.compile(loss='binary_crossentropy',\n",
        "              optimizer='adam',\n",
        "              metrics=['accuracy'])"
      ],
      "execution_count": 0,
      "outputs": []
    },
    {
      "cell_type": "markdown",
      "metadata": {
        "id": "g_-gLpFa-QwZ",
        "colab_type": "text"
      },
      "source": [
        "### Fitting the Model\n",
        "Now, we can use the model.fit method to fits the model to the training data. We will train the model for 20 epochs in mini-batches of 512 samples. During the training process, we will also monitor the model's loss and accuracy on the 10,000 samples from the validation set."
      ]
    },
    {
      "cell_type": "code",
      "metadata": {
        "id": "ORN1OZTf-Qga",
        "colab_type": "code",
        "colab": {
          "base_uri": "https://localhost:8080/",
          "height": 711
        },
        "outputId": "b90d0969-15f2-4b18-85d8-cbe09862476e"
      },
      "source": [
        "# Fit the model\n",
        "history = model.fit(train_data.shuffle(10000, seed=0).batch(512),\n",
        "                    epochs=20,\n",
        "                    validation_data=validation_data.batch(512))"
      ],
      "execution_count": 10,
      "outputs": [
        {
          "output_type": "stream",
          "text": [
            "Epoch 1/20\n",
            "30/30 [==============================] - 3s 94ms/step - loss: 0.7956 - accuracy: 0.4989 - val_loss: 0.7148 - val_accuracy: 0.5636\n",
            "Epoch 2/20\n",
            "30/30 [==============================] - 3s 93ms/step - loss: 0.6705 - accuracy: 0.5981 - val_loss: 0.6396 - val_accuracy: 0.6442\n",
            "Epoch 3/20\n",
            "30/30 [==============================] - 3s 92ms/step - loss: 0.6092 - accuracy: 0.6643 - val_loss: 0.5936 - val_accuracy: 0.6872\n",
            "Epoch 4/20\n",
            "30/30 [==============================] - 3s 92ms/step - loss: 0.5608 - accuracy: 0.7136 - val_loss: 0.5553 - val_accuracy: 0.7213\n",
            "Epoch 5/20\n",
            "30/30 [==============================] - 3s 92ms/step - loss: 0.5214 - accuracy: 0.7494 - val_loss: 0.5214 - val_accuracy: 0.7505\n",
            "Epoch 6/20\n",
            "30/30 [==============================] - 3s 93ms/step - loss: 0.4829 - accuracy: 0.7822 - val_loss: 0.4901 - val_accuracy: 0.7769\n",
            "Epoch 7/20\n",
            "30/30 [==============================] - 3s 93ms/step - loss: 0.4478 - accuracy: 0.8049 - val_loss: 0.4604 - val_accuracy: 0.7938\n",
            "Epoch 8/20\n",
            "30/30 [==============================] - 3s 92ms/step - loss: 0.4138 - accuracy: 0.8263 - val_loss: 0.4331 - val_accuracy: 0.8098\n",
            "Epoch 9/20\n",
            "30/30 [==============================] - 3s 93ms/step - loss: 0.3816 - accuracy: 0.8453 - val_loss: 0.4090 - val_accuracy: 0.8218\n",
            "Epoch 10/20\n",
            "30/30 [==============================] - 3s 92ms/step - loss: 0.3522 - accuracy: 0.8600 - val_loss: 0.3869 - val_accuracy: 0.8320\n",
            "Epoch 11/20\n",
            "30/30 [==============================] - 3s 94ms/step - loss: 0.3254 - accuracy: 0.8733 - val_loss: 0.3681 - val_accuracy: 0.8422\n",
            "Epoch 12/20\n",
            "30/30 [==============================] - 3s 94ms/step - loss: 0.3007 - accuracy: 0.8837 - val_loss: 0.3522 - val_accuracy: 0.8506\n",
            "Epoch 13/20\n",
            "30/30 [==============================] - 3s 93ms/step - loss: 0.2801 - accuracy: 0.8921 - val_loss: 0.3407 - val_accuracy: 0.8537\n",
            "Epoch 14/20\n",
            "30/30 [==============================] - 3s 93ms/step - loss: 0.2603 - accuracy: 0.9046 - val_loss: 0.3305 - val_accuracy: 0.8596\n",
            "Epoch 15/20\n",
            "30/30 [==============================] - 3s 94ms/step - loss: 0.2428 - accuracy: 0.9099 - val_loss: 0.3203 - val_accuracy: 0.8635\n",
            "Epoch 16/20\n",
            "30/30 [==============================] - 3s 92ms/step - loss: 0.2269 - accuracy: 0.9174 - val_loss: 0.3135 - val_accuracy: 0.8647\n",
            "Epoch 17/20\n",
            "30/30 [==============================] - 3s 95ms/step - loss: 0.2127 - accuracy: 0.9242 - val_loss: 0.3092 - val_accuracy: 0.8678\n",
            "Epoch 18/20\n",
            "30/30 [==============================] - 3s 93ms/step - loss: 0.1996 - accuracy: 0.9285 - val_loss: 0.3041 - val_accuracy: 0.8689\n",
            "Epoch 19/20\n",
            "30/30 [==============================] - 3s 93ms/step - loss: 0.1874 - accuracy: 0.9339 - val_loss: 0.3016 - val_accuracy: 0.8693\n",
            "Epoch 20/20\n",
            "30/30 [==============================] - 3s 92ms/step - loss: 0.1761 - accuracy: 0.9403 - val_loss: 0.3048 - val_accuracy: 0.8717\n"
          ],
          "name": "stdout"
        }
      ]
    },
    {
      "cell_type": "markdown",
      "metadata": {
        "id": "M5yC66At_aZi",
        "colab_type": "text"
      },
      "source": [
        "As the model trains, the loss and accuracy metrics are displayed. This model reaches an accuracy of about 94% on the training data and 87% on validation data."
      ]
    },
    {
      "cell_type": "code",
      "metadata": {
        "id": "Rd-3bFKZBL0b",
        "colab_type": "code",
        "colab": {
          "base_uri": "https://localhost:8080/",
          "height": 283
        },
        "outputId": "5f32ec75-e105-40ec-f716-fded661c249f"
      },
      "source": [
        "import matplotlib.pyplot as plt\n",
        "\n",
        "# Create the accuracy plot\n",
        "plt.plot(history.history['accuracy'], label='accuracy')\n",
        "plt.plot(history.history['val_accuracy'], label = 'val_accuracy')\n",
        "plt.xlabel('Epoch')\n",
        "plt.ylabel('Accuracy')\n",
        "plt.xlim([0, 20])\n",
        "plt.ylim([0.5, 1])\n",
        "plt.legend(loc='lower right')\n",
        "plt.show()"
      ],
      "execution_count": 11,
      "outputs": [
        {
          "output_type": "display_data",
          "data": {
            "image/png": "[encoded data removed]",
            "text/plain": [
              "<Figure size 432x288 with 1 Axes>"
            ]
          },
          "metadata": {
            "tags": [],
            "needs_background": "light"
          }
        }
      ]
    },
    {
      "cell_type": "markdown",
      "metadata": {
        "id": "LeSVNWFY_mrB",
        "colab_type": "text"
      },
      "source": [
        "## Evaluating the Model\n",
        "Next, compare how the model performs on the test data."
      ]
    },
    {
      "cell_type": "code",
      "metadata": {
        "id": "klR02TO1-Og4",
        "colab_type": "code",
        "colab": {
          "base_uri": "https://localhost:8080/",
          "height": 35
        },
        "outputId": "2d13ff02-e145-431d-d222-0abd4f50543f"
      },
      "source": [
        "test_loss, test_acc = model.evaluate(test_data.batch(512), verbose=2)"
      ],
      "execution_count": 12,
      "outputs": [
        {
          "output_type": "stream",
          "text": [
            "49/49 - 3s - loss: 0.3170 - accuracy: 0.8647\n"
          ],
          "name": "stdout"
        }
      ]
    },
    {
      "cell_type": "markdown",
      "metadata": {
        "id": "d9p2S4n__91r",
        "colab_type": "text"
      },
      "source": [
        "\n",
        "It turns out that the accuracy on the test dataset is a little less than the accuracy on the validation data."
      ]
    },
    {
      "cell_type": "markdown",
      "metadata": {
        "id": "IY2-KyqODI8F",
        "colab_type": "text"
      },
      "source": [
        "## Making Predictions\n",
        "Now that we have our model trained, we can try to make some predictions."
      ]
    },
    {
      "cell_type": "code",
      "metadata": {
        "id": "jhXcBBiJDCPW",
        "colab_type": "code",
        "colab": {
          "base_uri": "https://localhost:8080/",
          "height": 52
        },
        "outputId": "8ea544e9-8bf5-4a1c-e462-9d28eb9a9ed3"
      },
      "source": [
        "# Predict on a positive movie review\n",
        "model.predict(['This is the best movie I have ever seen!',\n",
        "               'This movie is very horrible! The acting is very poor!'])"
      ],
      "execution_count": 28,
      "outputs": [
        {
          "output_type": "execute_result",
          "data": {
            "text/plain": [
              "array([[0.9197589 ],\n",
              "       [0.04031505]], dtype=float32)"
            ]
          },
          "metadata": {
            "tags": []
          },
          "execution_count": 28
        }
      ]
    },
    {
      "cell_type": "markdown",
      "metadata": {
        "id": "5nf5PBecEukl",
        "colab_type": "text"
      },
      "source": [
        "Since the first review has a value closer to 1, the model classifies this as a positive review. On the other hand, the second review has a value closer to 0, so the model classifies this as a negative review."
      ]
    }
  ]
}